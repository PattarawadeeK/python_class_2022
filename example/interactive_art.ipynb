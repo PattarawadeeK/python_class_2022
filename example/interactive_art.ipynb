{
 "cells": [
  {
   "cell_type": "markdown",
   "metadata": {},
   "source": [
    "# ineractive maplotlib chart\n"
   ]
  },
  {
   "cell_type": "markdown",
   "metadata": {},
   "source": [
    "---\n",
    "* author:  [Prasert Kanawattanachai](prasert.k@chula.ac.th)\n",
    "* YouTube: https://www.youtube.com/prasertcbs\n",
    "* github: https://github.com/prasertcbs/\n",
    "* [Chulalongkorn Business School](https://www.cbs.chula.ac.th/en/)\n",
    "---\n"
   ]
  },
  {
   "cell_type": "code",
   "execution_count": 1,
   "metadata": {},
   "outputs": [],
   "source": [
    "import numpy as np\n",
    "import matplotlib.pyplot as plt\n",
    "\n",
    "import ipywidgets as widgets\n",
    "from ipywidgets import interact\n",
    "\n",
    "%matplotlib inline\n",
    "# %config InlineBackend.figure_format = 'png'\n",
    "# %config InlineBackend.figure_format = 'retina'\n",
    "%config InlineBackend.figure_format = 'svg'\n",
    "# %config InlineBackend.figure_format = 'pdf'"
   ]
  },
  {
   "cell_type": "code",
   "execution_count": 8,
   "metadata": {},
   "outputs": [
    {
     "data": {
      "application/vnd.jupyter.widget-view+json": {
       "model_id": "ebaed02a46604b0cb126a752a65d75bb",
       "version_major": 2,
       "version_minor": 0
      },
      "text/plain": [
       "interactive(children=(IntSlider(value=6, description='k', max=30, min=2), IntSlider(value=2, description='j', …"
      ]
     },
     "metadata": {},
     "output_type": "display_data"
    }
   ],
   "source": [
    "@interact\n",
    "def plot_flower(\n",
    "    k=widgets.IntSlider(min=2, max=30, step=1, value=6),\n",
    "    j=widgets.IntSlider(min=2, max=30, step=1, value=1),\n",
    "):\n",
    "    theta = np.linspace(0, 2 * np.pi, 720)\n",
    "    x = np.cos(k * theta) * np.cos(j * theta)\n",
    "    y = np.cos(k * theta) * np.sin(j * theta)\n",
    "    plt.figure(figsize=(7, 7))\n",
    "    plt.plot(x, y)\n"
   ]
  },
  {
   "cell_type": "code",
   "execution_count": 11,
   "metadata": {},
   "outputs": [
    {
     "data": {
      "application/vnd.jupyter.widget-view+json": {
       "model_id": "3c9fed239d614f928fe1400212cdb709",
       "version_major": 2,
       "version_minor": 0
      },
      "text/plain": [
       "interactive(children=(IntSlider(value=720, description='r', max=1440, min=2, step=15), IntSlider(value=103, de…"
      ]
     },
     "metadata": {},
     "output_type": "display_data"
    }
   ],
   "source": [
    "@interact\n",
    "def demo2(\n",
    "    r=widgets.IntSlider(min=2, max=1440, step=15, value=720),\n",
    "    k=widgets.IntSlider(min=2, max=300, step=1, value=103),\n",
    "    j=widgets.IntSlider(min=2, max=300, step=1, value=50),\n",
    "):\n",
    "    # ref equation: https://www.quantamagazine.org/20151008-symmetry-math-curves-puzzle/\n",
    "    t = np.linspace(0, 2 * np.pi, r)\n",
    "    # cos(t) + cos(103t)/2 + sin(50t)/3\n",
    "    x = np.cos(t) + np.cos(k * t) / 2 + np.sin(j * t) / 3\n",
    "    # sin(t) + sin(103t)/2 + cos(50t)/3\n",
    "    y = np.sin(t) + np.sin(k * t) / 2 + np.cos(j * t) / 3\n",
    "    plt.figure(figsize=(7, 7))\n",
    "    plt.plot(x, y, color=\"pink\")\n",
    "    plt.axis(\"equal\")\n",
    "    plt.show()\n",
    "\n",
    "\n",
    "# demo2()\n"
   ]
  },
  {
   "cell_type": "code",
   "execution_count": 12,
   "metadata": {},
   "outputs": [
    {
     "data": {
      "application/vnd.jupyter.widget-view+json": {
       "model_id": "9ffd94805c0d4d3986b92b3a94e5a4bb",
       "version_major": 2,
       "version_minor": 0
      },
      "text/plain": [
       "interactive(children=(IntSlider(value=1080, description='r', max=1440, min=2, step=15), IntSlider(value=103, d…"
      ]
     },
     "metadata": {},
     "output_type": "display_data"
    }
   ],
   "source": [
    "@interact\n",
    "def demo3(\n",
    "    r=widgets.IntSlider(min=2, max=1440, step=15, value=1080),\n",
    "    k=widgets.IntSlider(min=2, max=300, step=1, value=103),\n",
    "    j=widgets.IntSlider(min=2, max=300, step=1, value=100),\n",
    "):\n",
    "    # ref equation: https://www.quantamagazine.org/20151008-symmetry-math-curves-puzzle/\n",
    "    t = np.linspace(0, 2 * np.pi, r)\n",
    "    x = np.cos(t) + np.cos(k * t) / 2 + np.sin(j * t) / 3\n",
    "    y = np.sin(t) + np.sin(k * t) / 2 + np.cos(j * t) / 3\n",
    "\n",
    "    # fig_layout = np.cos(t) + np.cos(7* t) / 2 + np.sin(343* t) / 3\n",
    "    # y = np.sin(t) + np.sin(7* t) / 2 + np.cos(343* t) / 3\n",
    "    plt.figure(figsize=(7, 7))\n",
    "    plt.plot(x, y, color=\"orange\")\n",
    "    plt.axis(\"equal\")\n",
    "    plt.show()\n",
    "\n",
    "\n",
    "# demo3()\n"
   ]
  },
  {
   "cell_type": "code",
   "execution_count": null,
   "metadata": {},
   "outputs": [],
   "source": []
  }
 ],
 "metadata": {
  "interpreter": {
   "hash": "b4c3ccfac994cfbb0c569516686a847c6b81ac3d5e88d1841f2604759f69593a"
  },
  "kernelspec": {
   "display_name": "Python 3.8.12 64-bit ('base': conda)",
   "language": "python",
   "name": "python3"
  },
  "language_info": {
   "codemirror_mode": {
    "name": "ipython",
    "version": 3
   },
   "file_extension": ".py",
   "mimetype": "text/x-python",
   "name": "python",
   "nbconvert_exporter": "python",
   "pygments_lexer": "ipython3",
   "version": "3.8.12"
  },
  "orig_nbformat": 4
 },
 "nbformat": 4,
 "nbformat_minor": 2
}
