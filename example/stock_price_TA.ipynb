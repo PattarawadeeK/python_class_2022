{
 "cells": [
  {
   "cell_type": "markdown",
   "metadata": {},
   "source": [
    "## Stock prices: Technical Analysis"
   ]
  },
  {
   "cell_type": "markdown",
   "metadata": {},
   "source": [
    "---\n",
    "* author:  [Prasert Kanawattanachai](prasert.k@chula.ac.th)\n",
    "* YouTube: https://www.youtube.com/prasertcbs\n",
    "* github: https://github.com/prasertcbs/\n",
    "* [Chulalongkorn Business School](https://www.cbs.chula.ac.th/en/)\n",
    "---\n"
   ]
  },
  {
   "cell_type": "code",
   "execution_count": 1,
   "metadata": {},
   "outputs": [
    {
     "data": {
      "text/html": [
       "        <script type=\"text/javascript\">\n",
       "        window.PlotlyConfig = {MathJaxConfig: 'local'};\n",
       "        if (window.MathJax) {MathJax.Hub.Config({SVG: {font: \"STIX-Web\"}});}\n",
       "        if (typeof require !== 'undefined') {\n",
       "        require.undef(\"plotly\");\n",
       "        requirejs.config({\n",
       "            paths: {\n",
       "                'plotly': ['https://cdn.plot.ly/plotly-2.8.3.min']\n",
       "            }\n",
       "        });\n",
       "        require(['plotly'], function(Plotly) {\n",
       "            window._Plotly = Plotly;\n",
       "        });\n",
       "        }\n",
       "        </script>\n",
       "        "
      ]
     },
     "metadata": {},
     "output_type": "display_data"
    }
   ],
   "source": [
    "import pandas as pd\n",
    "import numpy as np\n",
    "from pandas_datareader import data\n",
    "import cufflinks as cf\n",
    "\n",
    "import ipywidgets as widgets\n",
    "from ipywidgets import interact, interactive, fixed, interact_manual\n"
   ]
  },
  {
   "cell_type": "code",
   "execution_count": 2,
   "metadata": {
    "colab": {
     "base_uri": "https://localhost:8080/",
     "height": 64
    },
    "colab_type": "code",
    "id": "fdr0pYIf7P-_",
    "outputId": "c919deae-c99b-44b0-8924-4d2355ca0b63"
   },
   "outputs": [
    {
     "name": "stdout",
     "output_type": "stream",
     "text": [
      "pandas  version: 1.3.4\n"
     ]
    },
    {
     "data": {
      "text/plain": [
       "Timestamp('2022-01-05 20:12:22.344043')"
      ]
     },
     "execution_count": 2,
     "metadata": {},
     "output_type": "execute_result"
    }
   ],
   "source": [
    "print(f\"pandas  version: {pd.__version__}\")\n",
    "pd.Timestamp.now()"
   ]
  },
  {
   "cell_type": "markdown",
   "metadata": {},
   "source": [
    "## read historical stock prices"
   ]
  },
  {
   "cell_type": "code",
   "execution_count": 3,
   "metadata": {},
   "outputs": [],
   "source": [
    "symbols=['ptt.bk', 'scb.bk', 'aot.bk', 'bh.bk']\n",
    "# symbols = [\"mrna\", \"msft\", \"aapl\", \"sbux\", 'amzn', 'tsla']\n",
    "# symbols=['btc-usd', 'eth-usd', 'sand-usd', 'mana-usd']\n",
    "\n",
    "# automobile\n",
    "# symbols = [\"f\", \"gm\", \"tsla\", 'nkla', 'lcid', 'rivn', 'nio', \"xpev\", 'li', 'byddf']\n",
    "\n",
    "# Hermes, LV, Christian Dior, Kering\n",
    "# symbols=['RMS.PA', 'MC.PA', 'CDI.PA', 'KER.PA'] # French luxury companies (price in EUR)\n",
    "dat = data.DataReader(symbols, data_source=\"yahoo\",\n",
    "                      start=\"2020-01-01\", end=str(pd.Timestamp.today().date()))"
   ]
  },
  {
   "cell_type": "code",
   "execution_count": 4,
   "metadata": {},
   "outputs": [
    {
     "data": {
      "text/html": [
       "<div>\n",
       "<style scoped>\n",
       "    .dataframe tbody tr th:only-of-type {\n",
       "        vertical-align: middle;\n",
       "    }\n",
       "\n",
       "    .dataframe tbody tr th {\n",
       "        vertical-align: top;\n",
       "    }\n",
       "\n",
       "    .dataframe thead tr th {\n",
       "        text-align: left;\n",
       "    }\n",
       "\n",
       "    .dataframe thead tr:last-of-type th {\n",
       "        text-align: right;\n",
       "    }\n",
       "</style>\n",
       "<table border=\"1\" class=\"dataframe\">\n",
       "  <thead>\n",
       "    <tr>\n",
       "      <th>Attributes</th>\n",
       "      <th colspan=\"4\" halign=\"left\">Adj Close</th>\n",
       "      <th colspan=\"4\" halign=\"left\">Close</th>\n",
       "      <th colspan=\"2\" halign=\"left\">High</th>\n",
       "      <th>...</th>\n",
       "      <th colspan=\"2\" halign=\"left\">Low</th>\n",
       "      <th colspan=\"4\" halign=\"left\">Open</th>\n",
       "      <th colspan=\"4\" halign=\"left\">Volume</th>\n",
       "    </tr>\n",
       "    <tr>\n",
       "      <th>Symbols</th>\n",
       "      <th>ptt.bk</th>\n",
       "      <th>scb.bk</th>\n",
       "      <th>aot.bk</th>\n",
       "      <th>bh.bk</th>\n",
       "      <th>ptt.bk</th>\n",
       "      <th>scb.bk</th>\n",
       "      <th>aot.bk</th>\n",
       "      <th>bh.bk</th>\n",
       "      <th>ptt.bk</th>\n",
       "      <th>scb.bk</th>\n",
       "      <th>...</th>\n",
       "      <th>aot.bk</th>\n",
       "      <th>bh.bk</th>\n",
       "      <th>ptt.bk</th>\n",
       "      <th>scb.bk</th>\n",
       "      <th>aot.bk</th>\n",
       "      <th>bh.bk</th>\n",
       "      <th>ptt.bk</th>\n",
       "      <th>scb.bk</th>\n",
       "      <th>aot.bk</th>\n",
       "      <th>bh.bk</th>\n",
       "    </tr>\n",
       "    <tr>\n",
       "      <th>Date</th>\n",
       "      <th></th>\n",
       "      <th></th>\n",
       "      <th></th>\n",
       "      <th></th>\n",
       "      <th></th>\n",
       "      <th></th>\n",
       "      <th></th>\n",
       "      <th></th>\n",
       "      <th></th>\n",
       "      <th></th>\n",
       "      <th></th>\n",
       "      <th></th>\n",
       "      <th></th>\n",
       "      <th></th>\n",
       "      <th></th>\n",
       "      <th></th>\n",
       "      <th></th>\n",
       "      <th></th>\n",
       "      <th></th>\n",
       "      <th></th>\n",
       "      <th></th>\n",
       "    </tr>\n",
       "  </thead>\n",
       "  <tbody>\n",
       "    <tr>\n",
       "      <th>2020-01-02</th>\n",
       "      <td>41.872906</td>\n",
       "      <td>111.230553</td>\n",
       "      <td>74.814011</td>\n",
       "      <td>137.060883</td>\n",
       "      <td>45.50</td>\n",
       "      <td>122.5</td>\n",
       "      <td>75.25</td>\n",
       "      <td>146.5</td>\n",
       "      <td>45.50</td>\n",
       "      <td>122.5</td>\n",
       "      <td>...</td>\n",
       "      <td>74.25</td>\n",
       "      <td>145.5</td>\n",
       "      <td>44.25</td>\n",
       "      <td>122.0</td>\n",
       "      <td>74.50</td>\n",
       "      <td>147.5</td>\n",
       "      <td>59084700.0</td>\n",
       "      <td>3938300.0</td>\n",
       "      <td>11500200.0</td>\n",
       "      <td>829600.0</td>\n",
       "    </tr>\n",
       "    <tr>\n",
       "      <th>2020-01-03</th>\n",
       "      <td>42.793194</td>\n",
       "      <td>109.414543</td>\n",
       "      <td>73.571259</td>\n",
       "      <td>132.383041</td>\n",
       "      <td>46.50</td>\n",
       "      <td>120.5</td>\n",
       "      <td>74.00</td>\n",
       "      <td>141.5</td>\n",
       "      <td>47.00</td>\n",
       "      <td>122.5</td>\n",
       "      <td>...</td>\n",
       "      <td>73.75</td>\n",
       "      <td>140.0</td>\n",
       "      <td>46.25</td>\n",
       "      <td>121.5</td>\n",
       "      <td>74.75</td>\n",
       "      <td>146.0</td>\n",
       "      <td>147370600.0</td>\n",
       "      <td>7975600.0</td>\n",
       "      <td>22661500.0</td>\n",
       "      <td>1941000.0</td>\n",
       "    </tr>\n",
       "    <tr>\n",
       "      <th>2020-01-06</th>\n",
       "      <td>43.253330</td>\n",
       "      <td>105.782524</td>\n",
       "      <td>71.831390</td>\n",
       "      <td>129.576324</td>\n",
       "      <td>47.00</td>\n",
       "      <td>116.5</td>\n",
       "      <td>72.25</td>\n",
       "      <td>138.5</td>\n",
       "      <td>47.75</td>\n",
       "      <td>119.0</td>\n",
       "      <td>...</td>\n",
       "      <td>71.75</td>\n",
       "      <td>137.5</td>\n",
       "      <td>47.25</td>\n",
       "      <td>119.0</td>\n",
       "      <td>73.00</td>\n",
       "      <td>138.0</td>\n",
       "      <td>91026800.0</td>\n",
       "      <td>13906700.0</td>\n",
       "      <td>41290900.0</td>\n",
       "      <td>1892000.0</td>\n",
       "    </tr>\n",
       "    <tr>\n",
       "      <th>2020-01-07</th>\n",
       "      <td>43.483402</td>\n",
       "      <td>105.328522</td>\n",
       "      <td>73.322701</td>\n",
       "      <td>132.383041</td>\n",
       "      <td>47.25</td>\n",
       "      <td>116.0</td>\n",
       "      <td>73.75</td>\n",
       "      <td>141.5</td>\n",
       "      <td>47.25</td>\n",
       "      <td>118.5</td>\n",
       "      <td>...</td>\n",
       "      <td>72.75</td>\n",
       "      <td>139.5</td>\n",
       "      <td>47.25</td>\n",
       "      <td>117.5</td>\n",
       "      <td>73.00</td>\n",
       "      <td>139.5</td>\n",
       "      <td>60059600.0</td>\n",
       "      <td>11296300.0</td>\n",
       "      <td>14769400.0</td>\n",
       "      <td>1711400.0</td>\n",
       "    </tr>\n",
       "    <tr>\n",
       "      <th>2020-01-08</th>\n",
       "      <td>43.023266</td>\n",
       "      <td>103.512520</td>\n",
       "      <td>72.577049</td>\n",
       "      <td>131.447479</td>\n",
       "      <td>46.75</td>\n",
       "      <td>114.0</td>\n",
       "      <td>73.00</td>\n",
       "      <td>140.5</td>\n",
       "      <td>47.75</td>\n",
       "      <td>115.0</td>\n",
       "      <td>...</td>\n",
       "      <td>72.00</td>\n",
       "      <td>139.5</td>\n",
       "      <td>47.50</td>\n",
       "      <td>114.0</td>\n",
       "      <td>72.25</td>\n",
       "      <td>139.5</td>\n",
       "      <td>57759900.0</td>\n",
       "      <td>9547100.0</td>\n",
       "      <td>21980500.0</td>\n",
       "      <td>1370600.0</td>\n",
       "    </tr>\n",
       "  </tbody>\n",
       "</table>\n",
       "<p>5 rows × 24 columns</p>\n",
       "</div>"
      ],
      "text/plain": [
       "Attributes  Adj Close                                     Close                \\\n",
       "Symbols        ptt.bk      scb.bk     aot.bk       bh.bk ptt.bk scb.bk aot.bk   \n",
       "Date                                                                            \n",
       "2020-01-02  41.872906  111.230553  74.814011  137.060883  45.50  122.5  75.25   \n",
       "2020-01-03  42.793194  109.414543  73.571259  132.383041  46.50  120.5  74.00   \n",
       "2020-01-06  43.253330  105.782524  71.831390  129.576324  47.00  116.5  72.25   \n",
       "2020-01-07  43.483402  105.328522  73.322701  132.383041  47.25  116.0  73.75   \n",
       "2020-01-08  43.023266  103.512520  72.577049  131.447479  46.75  114.0  73.00   \n",
       "\n",
       "Attributes          High         ...    Low          Open                \\\n",
       "Symbols     bh.bk ptt.bk scb.bk  ... aot.bk  bh.bk ptt.bk scb.bk aot.bk   \n",
       "Date                             ...                                      \n",
       "2020-01-02  146.5  45.50  122.5  ...  74.25  145.5  44.25  122.0  74.50   \n",
       "2020-01-03  141.5  47.00  122.5  ...  73.75  140.0  46.25  121.5  74.75   \n",
       "2020-01-06  138.5  47.75  119.0  ...  71.75  137.5  47.25  119.0  73.00   \n",
       "2020-01-07  141.5  47.25  118.5  ...  72.75  139.5  47.25  117.5  73.00   \n",
       "2020-01-08  140.5  47.75  115.0  ...  72.00  139.5  47.50  114.0  72.25   \n",
       "\n",
       "Attributes              Volume                                     \n",
       "Symbols     bh.bk       ptt.bk      scb.bk      aot.bk      bh.bk  \n",
       "Date                                                               \n",
       "2020-01-02  147.5   59084700.0   3938300.0  11500200.0   829600.0  \n",
       "2020-01-03  146.0  147370600.0   7975600.0  22661500.0  1941000.0  \n",
       "2020-01-06  138.0   91026800.0  13906700.0  41290900.0  1892000.0  \n",
       "2020-01-07  139.5   60059600.0  11296300.0  14769400.0  1711400.0  \n",
       "2020-01-08  139.5   57759900.0   9547100.0  21980500.0  1370600.0  \n",
       "\n",
       "[5 rows x 24 columns]"
      ]
     },
     "execution_count": 4,
     "metadata": {},
     "output_type": "execute_result"
    }
   ],
   "source": [
    "dat.head()"
   ]
  },
  {
   "cell_type": "code",
   "execution_count": 5,
   "metadata": {},
   "outputs": [
    {
     "data": {
      "text/html": [
       "<div>\n",
       "<style scoped>\n",
       "    .dataframe tbody tr th:only-of-type {\n",
       "        vertical-align: middle;\n",
       "    }\n",
       "\n",
       "    .dataframe tbody tr th {\n",
       "        vertical-align: top;\n",
       "    }\n",
       "\n",
       "    .dataframe thead th {\n",
       "        text-align: right;\n",
       "    }\n",
       "</style>\n",
       "<table border=\"1\" class=\"dataframe\">\n",
       "  <thead>\n",
       "    <tr style=\"text-align: right;\">\n",
       "      <th>Attributes</th>\n",
       "      <th>Symbol</th>\n",
       "      <th>Adj Close</th>\n",
       "      <th>Close</th>\n",
       "      <th>High</th>\n",
       "      <th>Low</th>\n",
       "      <th>Open</th>\n",
       "      <th>Volume</th>\n",
       "    </tr>\n",
       "    <tr>\n",
       "      <th>Date</th>\n",
       "      <th></th>\n",
       "      <th></th>\n",
       "      <th></th>\n",
       "      <th></th>\n",
       "      <th></th>\n",
       "      <th></th>\n",
       "      <th></th>\n",
       "    </tr>\n",
       "  </thead>\n",
       "  <tbody>\n",
       "    <tr>\n",
       "      <th>2020-01-02</th>\n",
       "      <td>ptt.bk</td>\n",
       "      <td>41.872906</td>\n",
       "      <td>45.50</td>\n",
       "      <td>45.5</td>\n",
       "      <td>44.00</td>\n",
       "      <td>44.25</td>\n",
       "      <td>59084700.0</td>\n",
       "    </tr>\n",
       "    <tr>\n",
       "      <th>2020-01-02</th>\n",
       "      <td>scb.bk</td>\n",
       "      <td>111.230553</td>\n",
       "      <td>122.50</td>\n",
       "      <td>122.5</td>\n",
       "      <td>121.50</td>\n",
       "      <td>122.00</td>\n",
       "      <td>3938300.0</td>\n",
       "    </tr>\n",
       "    <tr>\n",
       "      <th>2020-01-02</th>\n",
       "      <td>aot.bk</td>\n",
       "      <td>74.814011</td>\n",
       "      <td>75.25</td>\n",
       "      <td>75.5</td>\n",
       "      <td>74.25</td>\n",
       "      <td>74.50</td>\n",
       "      <td>11500200.0</td>\n",
       "    </tr>\n",
       "    <tr>\n",
       "      <th>2020-01-02</th>\n",
       "      <td>bh.bk</td>\n",
       "      <td>137.060883</td>\n",
       "      <td>146.50</td>\n",
       "      <td>147.5</td>\n",
       "      <td>145.50</td>\n",
       "      <td>147.50</td>\n",
       "      <td>829600.0</td>\n",
       "    </tr>\n",
       "    <tr>\n",
       "      <th>2020-01-03</th>\n",
       "      <td>ptt.bk</td>\n",
       "      <td>42.793194</td>\n",
       "      <td>46.50</td>\n",
       "      <td>47.0</td>\n",
       "      <td>46.00</td>\n",
       "      <td>46.25</td>\n",
       "      <td>147370600.0</td>\n",
       "    </tr>\n",
       "  </tbody>\n",
       "</table>\n",
       "</div>"
      ],
      "text/plain": [
       "Attributes  Symbol   Adj Close   Close   High     Low    Open       Volume\n",
       "Date                                                                      \n",
       "2020-01-02  ptt.bk   41.872906   45.50   45.5   44.00   44.25   59084700.0\n",
       "2020-01-02  scb.bk  111.230553  122.50  122.5  121.50  122.00    3938300.0\n",
       "2020-01-02  aot.bk   74.814011   75.25   75.5   74.25   74.50   11500200.0\n",
       "2020-01-02   bh.bk  137.060883  146.50  147.5  145.50  147.50     829600.0\n",
       "2020-01-03  ptt.bk   42.793194   46.50   47.0   46.00   46.25  147370600.0"
      ]
     },
     "execution_count": 5,
     "metadata": {},
     "output_type": "execute_result"
    }
   ],
   "source": [
    "df=dat.stack().reset_index().set_index('Date')\n",
    "df.rename(columns={'Symbols':'Symbol'}, inplace=True)\n",
    "df.head()"
   ]
  },
  {
   "cell_type": "code",
   "execution_count": 6,
   "metadata": {},
   "outputs": [],
   "source": [
    "df.to_csv('my port.csv', index=False)"
   ]
  },
  {
   "cell_type": "markdown",
   "metadata": {},
   "source": [
    "# Interactive chart"
   ]
  },
  {
   "cell_type": "code",
   "execution_count": 7,
   "metadata": {},
   "outputs": [
    {
     "data": {
      "text/plain": [
       "array(['aot.bk', 'bh.bk', 'ptt.bk', 'scb.bk'], dtype=object)"
      ]
     },
     "execution_count": 7,
     "metadata": {},
     "output_type": "execute_result"
    }
   ],
   "source": [
    "dsymbol=np.sort(df.Symbol.unique())\n",
    "dsymbol"
   ]
  },
  {
   "cell_type": "code",
   "execution_count": 8,
   "metadata": {},
   "outputs": [
    {
     "data": {
      "application/vnd.jupyter.widget-view+json": {
       "model_id": "8d82801eefc54ca0851201e4c85b9054",
       "version_major": 2,
       "version_minor": 0
      },
      "text/plain": [
       "interactive(children=(Dropdown(description='symbol', options=('aot.bk', 'bh.bk', 'ptt.bk', 'scb.bk'), value='a…"
      ]
     },
     "metadata": {},
     "output_type": "display_data"
    }
   ],
   "source": [
    "symbol_list=dsymbol\n",
    "\n",
    "@interact(symbol=symbol_list)\n",
    "def plot_chart(symbol):\n",
    "    qf = cf.QuantFig(df[df.Symbol==symbol], title=f'{symbol.upper()}',\n",
    "                    name=symbol, dimensions=(1000, 800))\n",
    "    qf.add_bollinger_bands(periods=20, boll_std=2, colors=[\n",
    "                        'magenta', 'grey'], fill=True)\n",
    "    qf.add_rsi(periods=14, color='purple')\n",
    "    # qf.add_volume()\n",
    "    qf.add_macd()\n",
    "    qf.iplot()"
   ]
  },
  {
   "cell_type": "code",
   "execution_count": null,
   "metadata": {},
   "outputs": [],
   "source": []
  }
 ],
 "metadata": {
  "interpreter": {
   "hash": "b4c3ccfac994cfbb0c569516686a847c6b81ac3d5e88d1841f2604759f69593a"
  },
  "kernelspec": {
   "display_name": "Python 3.8.12 64-bit ('base': conda)",
   "language": "python",
   "name": "python3"
  },
  "language_info": {
   "codemirror_mode": {
    "name": "ipython",
    "version": 3
   },
   "file_extension": ".py",
   "mimetype": "text/x-python",
   "name": "python",
   "nbconvert_exporter": "python",
   "pygments_lexer": "ipython3",
   "version": "3.8.12"
  },
  "orig_nbformat": 4
 },
 "nbformat": 4,
 "nbformat_minor": 2
}
