{
 "cells": [
  {
   "cell_type": "markdown",
   "metadata": {},
   "source": [
    "## Stock prices: Technical Analysis"
   ]
  },
  {
   "cell_type": "markdown",
   "metadata": {},
   "source": [
    "---\n",
    "* author:  [Prasert Kanawattanachai](prasert.k@chula.ac.th)\n",
    "* YouTube: https://www.youtube.com/prasertcbs\n",
    "* github: https://github.com/prasertcbs/\n",
    "* [Chulalongkorn Business School](https://www.cbs.chula.ac.th/en/)\n",
    "---\n"
   ]
  },
  {
   "cell_type": "code",
   "execution_count": 1,
   "metadata": {},
   "outputs": [
    {
     "data": {
      "text/html": [
       "        <script type=\"text/javascript\">\n",
       "        window.PlotlyConfig = {MathJaxConfig: 'local'};\n",
       "        if (window.MathJax) {MathJax.Hub.Config({SVG: {font: \"STIX-Web\"}});}\n",
       "        if (typeof require !== 'undefined') {\n",
       "        require.undef(\"plotly\");\n",
       "        requirejs.config({\n",
       "            paths: {\n",
       "                'plotly': ['https://cdn.plot.ly/plotly-2.8.3.min']\n",
       "            }\n",
       "        });\n",
       "        require(['plotly'], function(Plotly) {\n",
       "            window._Plotly = Plotly;\n",
       "        });\n",
       "        }\n",
       "        </script>\n",
       "        "
      ]
     },
     "metadata": {},
     "output_type": "display_data"
    }
   ],
   "source": [
    "import pandas as pd\n",
    "import numpy as np\n",
    "from pandas_datareader import data\n",
    "import cufflinks as cf\n",
    "\n",
    "import ipywidgets as widgets\n",
    "from ipywidgets import interact, interactive, fixed, interact_manual\n",
    "\n",
    "%config InlineBackend.figure_format = 'svg'\n"
   ]
  },
  {
   "cell_type": "code",
   "execution_count": 2,
   "metadata": {
    "colab": {
     "base_uri": "https://localhost:8080/",
     "height": 64
    },
    "colab_type": "code",
    "id": "fdr0pYIf7P-_",
    "outputId": "c919deae-c99b-44b0-8924-4d2355ca0b63"
   },
   "outputs": [
    {
     "name": "stdout",
     "output_type": "stream",
     "text": [
      "pandas  version: 1.3.5\n"
     ]
    },
    {
     "data": {
      "text/plain": [
       "Timestamp('2022-01-10 06:13:41.159392')"
      ]
     },
     "execution_count": 2,
     "metadata": {},
     "output_type": "execute_result"
    }
   ],
   "source": [
    "print(f\"pandas  version: {pd.__version__}\")\n",
    "pd.Timestamp.now()"
   ]
  },
  {
   "cell_type": "markdown",
   "metadata": {},
   "source": [
    "## read historical stock prices"
   ]
  },
  {
   "cell_type": "code",
   "execution_count": 3,
   "metadata": {},
   "outputs": [],
   "source": [
    "# symbols=['ptt.bk', 'scb.bk', 'aot.bk', 'bh.bk']\n",
    "symbols = [\"mrna\", \"msft\", \"aapl\", \"sbux\", 'amzn', 'tsla']\n",
    "# symbols=['btc-usd', 'eth-usd', 'sand-usd', 'mana-usd']\n",
    "\n",
    "# automobile\n",
    "# symbols = [\"f\", \"gm\", \"tsla\", 'nkla', 'lcid', 'rivn', 'nio', \"xpev\", 'li', 'byddf']\n",
    "\n",
    "# Hermes, LV, Christian Dior, Kering\n",
    "# symbols=['RMS.PA', 'MC.PA', 'CDI.PA', 'KER.PA'] # French luxury companies (price in EUR)\n",
    "dat = data.DataReader(symbols, data_source=\"yahoo\",\n",
    "                      start=\"2020-01-01\", end=str(pd.Timestamp.today().date()))"
   ]
  },
  {
   "cell_type": "code",
   "execution_count": 4,
   "metadata": {},
   "outputs": [
    {
     "data": {
      "text/html": [
       "<div>\n",
       "<style scoped>\n",
       "    .dataframe tbody tr th:only-of-type {\n",
       "        vertical-align: middle;\n",
       "    }\n",
       "\n",
       "    .dataframe tbody tr th {\n",
       "        vertical-align: top;\n",
       "    }\n",
       "\n",
       "    .dataframe thead tr th {\n",
       "        text-align: left;\n",
       "    }\n",
       "\n",
       "    .dataframe thead tr:last-of-type th {\n",
       "        text-align: right;\n",
       "    }\n",
       "</style>\n",
       "<table border=\"1\" class=\"dataframe\">\n",
       "  <thead>\n",
       "    <tr>\n",
       "      <th>Attributes</th>\n",
       "      <th colspan=\"6\" halign=\"left\">Adj Close</th>\n",
       "      <th colspan=\"4\" halign=\"left\">Close</th>\n",
       "      <th>...</th>\n",
       "      <th colspan=\"4\" halign=\"left\">Open</th>\n",
       "      <th colspan=\"6\" halign=\"left\">Volume</th>\n",
       "    </tr>\n",
       "    <tr>\n",
       "      <th>Symbols</th>\n",
       "      <th>mrna</th>\n",
       "      <th>msft</th>\n",
       "      <th>aapl</th>\n",
       "      <th>sbux</th>\n",
       "      <th>amzn</th>\n",
       "      <th>tsla</th>\n",
       "      <th>mrna</th>\n",
       "      <th>msft</th>\n",
       "      <th>aapl</th>\n",
       "      <th>sbux</th>\n",
       "      <th>...</th>\n",
       "      <th>aapl</th>\n",
       "      <th>sbux</th>\n",
       "      <th>amzn</th>\n",
       "      <th>tsla</th>\n",
       "      <th>mrna</th>\n",
       "      <th>msft</th>\n",
       "      <th>aapl</th>\n",
       "      <th>sbux</th>\n",
       "      <th>amzn</th>\n",
       "      <th>tsla</th>\n",
       "    </tr>\n",
       "    <tr>\n",
       "      <th>Date</th>\n",
       "      <th></th>\n",
       "      <th></th>\n",
       "      <th></th>\n",
       "      <th></th>\n",
       "      <th></th>\n",
       "      <th></th>\n",
       "      <th></th>\n",
       "      <th></th>\n",
       "      <th></th>\n",
       "      <th></th>\n",
       "      <th></th>\n",
       "      <th></th>\n",
       "      <th></th>\n",
       "      <th></th>\n",
       "      <th></th>\n",
       "      <th></th>\n",
       "      <th></th>\n",
       "      <th></th>\n",
       "      <th></th>\n",
       "      <th></th>\n",
       "      <th></th>\n",
       "    </tr>\n",
       "  </thead>\n",
       "  <tbody>\n",
       "    <tr>\n",
       "      <th>2019-12-31</th>\n",
       "      <td>19.559999</td>\n",
       "      <td>154.749725</td>\n",
       "      <td>72.337997</td>\n",
       "      <td>84.742485</td>\n",
       "      <td>1847.839966</td>\n",
       "      <td>83.666000</td>\n",
       "      <td>19.559999</td>\n",
       "      <td>157.699997</td>\n",
       "      <td>73.412498</td>\n",
       "      <td>87.919998</td>\n",
       "      <td>...</td>\n",
       "      <td>72.482498</td>\n",
       "      <td>87.440002</td>\n",
       "      <td>1842.0</td>\n",
       "      <td>81.000000</td>\n",
       "      <td>1112400.0</td>\n",
       "      <td>18369400.0</td>\n",
       "      <td>100805600.0</td>\n",
       "      <td>4115600.0</td>\n",
       "      <td>2506500.0</td>\n",
       "      <td>51428500.0</td>\n",
       "    </tr>\n",
       "    <tr>\n",
       "      <th>2020-01-02</th>\n",
       "      <td>19.230000</td>\n",
       "      <td>157.615097</td>\n",
       "      <td>73.988472</td>\n",
       "      <td>86.120796</td>\n",
       "      <td>1898.010010</td>\n",
       "      <td>86.052002</td>\n",
       "      <td>19.230000</td>\n",
       "      <td>160.619995</td>\n",
       "      <td>75.087502</td>\n",
       "      <td>89.349998</td>\n",
       "      <td>...</td>\n",
       "      <td>74.059998</td>\n",
       "      <td>88.120003</td>\n",
       "      <td>1875.0</td>\n",
       "      <td>84.900002</td>\n",
       "      <td>1233600.0</td>\n",
       "      <td>22622100.0</td>\n",
       "      <td>135480400.0</td>\n",
       "      <td>6473800.0</td>\n",
       "      <td>4029000.0</td>\n",
       "      <td>47660500.0</td>\n",
       "    </tr>\n",
       "    <tr>\n",
       "      <th>2020-01-03</th>\n",
       "      <td>18.889999</td>\n",
       "      <td>155.652512</td>\n",
       "      <td>73.269150</td>\n",
       "      <td>85.619598</td>\n",
       "      <td>1874.969971</td>\n",
       "      <td>88.601997</td>\n",
       "      <td>18.889999</td>\n",
       "      <td>158.619995</td>\n",
       "      <td>74.357498</td>\n",
       "      <td>88.830002</td>\n",
       "      <td>...</td>\n",
       "      <td>74.287498</td>\n",
       "      <td>88.660004</td>\n",
       "      <td>1864.5</td>\n",
       "      <td>88.099998</td>\n",
       "      <td>1751000.0</td>\n",
       "      <td>21116200.0</td>\n",
       "      <td>146322800.0</td>\n",
       "      <td>4874100.0</td>\n",
       "      <td>3764400.0</td>\n",
       "      <td>88892500.0</td>\n",
       "    </tr>\n",
       "    <tr>\n",
       "      <th>2020-01-06</th>\n",
       "      <td>18.129999</td>\n",
       "      <td>156.054871</td>\n",
       "      <td>73.852982</td>\n",
       "      <td>84.944893</td>\n",
       "      <td>1902.880005</td>\n",
       "      <td>90.307999</td>\n",
       "      <td>18.129999</td>\n",
       "      <td>159.029999</td>\n",
       "      <td>74.949997</td>\n",
       "      <td>88.129997</td>\n",
       "      <td>...</td>\n",
       "      <td>73.447502</td>\n",
       "      <td>88.110001</td>\n",
       "      <td>1860.0</td>\n",
       "      <td>88.094002</td>\n",
       "      <td>1606500.0</td>\n",
       "      <td>20813700.0</td>\n",
       "      <td>118387200.0</td>\n",
       "      <td>5409800.0</td>\n",
       "      <td>4061800.0</td>\n",
       "      <td>50665000.0</td>\n",
       "    </tr>\n",
       "    <tr>\n",
       "      <th>2020-01-07</th>\n",
       "      <td>17.780001</td>\n",
       "      <td>154.632004</td>\n",
       "      <td>73.505653</td>\n",
       "      <td>84.684654</td>\n",
       "      <td>1906.859985</td>\n",
       "      <td>93.811996</td>\n",
       "      <td>17.780001</td>\n",
       "      <td>157.580002</td>\n",
       "      <td>74.597504</td>\n",
       "      <td>87.860001</td>\n",
       "      <td>...</td>\n",
       "      <td>74.959999</td>\n",
       "      <td>87.959999</td>\n",
       "      <td>1904.5</td>\n",
       "      <td>92.279999</td>\n",
       "      <td>1461400.0</td>\n",
       "      <td>21634100.0</td>\n",
       "      <td>108872000.0</td>\n",
       "      <td>6514700.0</td>\n",
       "      <td>4044900.0</td>\n",
       "      <td>89410500.0</td>\n",
       "    </tr>\n",
       "  </tbody>\n",
       "</table>\n",
       "<p>5 rows × 36 columns</p>\n",
       "</div>"
      ],
      "text/plain": [
       "Attributes  Adj Close                                                 \\\n",
       "Symbols          mrna        msft       aapl       sbux         amzn   \n",
       "Date                                                                   \n",
       "2019-12-31  19.559999  154.749725  72.337997  84.742485  1847.839966   \n",
       "2020-01-02  19.230000  157.615097  73.988472  86.120796  1898.010010   \n",
       "2020-01-03  18.889999  155.652512  73.269150  85.619598  1874.969971   \n",
       "2020-01-06  18.129999  156.054871  73.852982  84.944893  1902.880005   \n",
       "2020-01-07  17.780001  154.632004  73.505653  84.684654  1906.859985   \n",
       "\n",
       "Attributes                 Close                                    ...  \\\n",
       "Symbols          tsla       mrna        msft       aapl       sbux  ...   \n",
       "Date                                                                ...   \n",
       "2019-12-31  83.666000  19.559999  157.699997  73.412498  87.919998  ...   \n",
       "2020-01-02  86.052002  19.230000  160.619995  75.087502  89.349998  ...   \n",
       "2020-01-03  88.601997  18.889999  158.619995  74.357498  88.830002  ...   \n",
       "2020-01-06  90.307999  18.129999  159.029999  74.949997  88.129997  ...   \n",
       "2020-01-07  93.811996  17.780001  157.580002  74.597504  87.860001  ...   \n",
       "\n",
       "Attributes       Open                                   Volume              \\\n",
       "Symbols          aapl       sbux    amzn       tsla       mrna        msft   \n",
       "Date                                                                         \n",
       "2019-12-31  72.482498  87.440002  1842.0  81.000000  1112400.0  18369400.0   \n",
       "2020-01-02  74.059998  88.120003  1875.0  84.900002  1233600.0  22622100.0   \n",
       "2020-01-03  74.287498  88.660004  1864.5  88.099998  1751000.0  21116200.0   \n",
       "2020-01-06  73.447502  88.110001  1860.0  88.094002  1606500.0  20813700.0   \n",
       "2020-01-07  74.959999  87.959999  1904.5  92.279999  1461400.0  21634100.0   \n",
       "\n",
       "Attributes                                                 \n",
       "Symbols            aapl       sbux       amzn        tsla  \n",
       "Date                                                       \n",
       "2019-12-31  100805600.0  4115600.0  2506500.0  51428500.0  \n",
       "2020-01-02  135480400.0  6473800.0  4029000.0  47660500.0  \n",
       "2020-01-03  146322800.0  4874100.0  3764400.0  88892500.0  \n",
       "2020-01-06  118387200.0  5409800.0  4061800.0  50665000.0  \n",
       "2020-01-07  108872000.0  6514700.0  4044900.0  89410500.0  \n",
       "\n",
       "[5 rows x 36 columns]"
      ]
     },
     "execution_count": 4,
     "metadata": {},
     "output_type": "execute_result"
    }
   ],
   "source": [
    "dat.head()"
   ]
  },
  {
   "cell_type": "code",
   "execution_count": 5,
   "metadata": {},
   "outputs": [
    {
     "data": {
      "text/html": [
       "<div>\n",
       "<style scoped>\n",
       "    .dataframe tbody tr th:only-of-type {\n",
       "        vertical-align: middle;\n",
       "    }\n",
       "\n",
       "    .dataframe tbody tr th {\n",
       "        vertical-align: top;\n",
       "    }\n",
       "\n",
       "    .dataframe thead th {\n",
       "        text-align: right;\n",
       "    }\n",
       "</style>\n",
       "<table border=\"1\" class=\"dataframe\">\n",
       "  <thead>\n",
       "    <tr style=\"text-align: right;\">\n",
       "      <th>Attributes</th>\n",
       "      <th>Symbol</th>\n",
       "      <th>Adj Close</th>\n",
       "      <th>Close</th>\n",
       "      <th>High</th>\n",
       "      <th>Low</th>\n",
       "      <th>Open</th>\n",
       "      <th>Volume</th>\n",
       "    </tr>\n",
       "    <tr>\n",
       "      <th>Date</th>\n",
       "      <th></th>\n",
       "      <th></th>\n",
       "      <th></th>\n",
       "      <th></th>\n",
       "      <th></th>\n",
       "      <th></th>\n",
       "      <th></th>\n",
       "    </tr>\n",
       "  </thead>\n",
       "  <tbody>\n",
       "    <tr>\n",
       "      <th>2019-12-31</th>\n",
       "      <td>mrna</td>\n",
       "      <td>19.559999</td>\n",
       "      <td>19.559999</td>\n",
       "      <td>19.639999</td>\n",
       "      <td>18.959999</td>\n",
       "      <td>18.959999</td>\n",
       "      <td>1112400.0</td>\n",
       "    </tr>\n",
       "    <tr>\n",
       "      <th>2019-12-31</th>\n",
       "      <td>msft</td>\n",
       "      <td>154.749725</td>\n",
       "      <td>157.699997</td>\n",
       "      <td>157.770004</td>\n",
       "      <td>156.449997</td>\n",
       "      <td>156.770004</td>\n",
       "      <td>18369400.0</td>\n",
       "    </tr>\n",
       "    <tr>\n",
       "      <th>2019-12-31</th>\n",
       "      <td>aapl</td>\n",
       "      <td>72.337997</td>\n",
       "      <td>73.412498</td>\n",
       "      <td>73.419998</td>\n",
       "      <td>72.379997</td>\n",
       "      <td>72.482498</td>\n",
       "      <td>100805600.0</td>\n",
       "    </tr>\n",
       "    <tr>\n",
       "      <th>2019-12-31</th>\n",
       "      <td>sbux</td>\n",
       "      <td>84.742485</td>\n",
       "      <td>87.919998</td>\n",
       "      <td>87.989998</td>\n",
       "      <td>87.309998</td>\n",
       "      <td>87.440002</td>\n",
       "      <td>4115600.0</td>\n",
       "    </tr>\n",
       "    <tr>\n",
       "      <th>2019-12-31</th>\n",
       "      <td>amzn</td>\n",
       "      <td>1847.839966</td>\n",
       "      <td>1847.839966</td>\n",
       "      <td>1853.260010</td>\n",
       "      <td>1832.229980</td>\n",
       "      <td>1842.000000</td>\n",
       "      <td>2506500.0</td>\n",
       "    </tr>\n",
       "  </tbody>\n",
       "</table>\n",
       "</div>"
      ],
      "text/plain": [
       "Attributes Symbol    Adj Close        Close         High          Low  \\\n",
       "Date                                                                    \n",
       "2019-12-31   mrna    19.559999    19.559999    19.639999    18.959999   \n",
       "2019-12-31   msft   154.749725   157.699997   157.770004   156.449997   \n",
       "2019-12-31   aapl    72.337997    73.412498    73.419998    72.379997   \n",
       "2019-12-31   sbux    84.742485    87.919998    87.989998    87.309998   \n",
       "2019-12-31   amzn  1847.839966  1847.839966  1853.260010  1832.229980   \n",
       "\n",
       "Attributes         Open       Volume  \n",
       "Date                                  \n",
       "2019-12-31    18.959999    1112400.0  \n",
       "2019-12-31   156.770004   18369400.0  \n",
       "2019-12-31    72.482498  100805600.0  \n",
       "2019-12-31    87.440002    4115600.0  \n",
       "2019-12-31  1842.000000    2506500.0  "
      ]
     },
     "execution_count": 5,
     "metadata": {},
     "output_type": "execute_result"
    }
   ],
   "source": [
    "df=dat.stack().reset_index().set_index('Date')\n",
    "df.rename(columns={'Symbols':'Symbol'}, inplace=True)\n",
    "df.head()"
   ]
  },
  {
   "cell_type": "code",
   "execution_count": 6,
   "metadata": {},
   "outputs": [],
   "source": [
    "df.to_csv('my port.csv', index=False)"
   ]
  },
  {
   "cell_type": "markdown",
   "metadata": {},
   "source": [
    "# Interactive chart"
   ]
  },
  {
   "cell_type": "code",
   "execution_count": 7,
   "metadata": {},
   "outputs": [
    {
     "data": {
      "text/plain": [
       "array(['aapl', 'amzn', 'mrna', 'msft', 'sbux', 'tsla'], dtype=object)"
      ]
     },
     "execution_count": 7,
     "metadata": {},
     "output_type": "execute_result"
    }
   ],
   "source": [
    "dsymbol=np.sort(df.Symbol.unique())\n",
    "dsymbol"
   ]
  },
  {
   "cell_type": "code",
   "execution_count": 8,
   "metadata": {},
   "outputs": [
    {
     "data": {
      "application/vnd.jupyter.widget-view+json": {
       "model_id": "3e4173f23f3c42c0a13090d6dc8b5c91",
       "version_major": 2,
       "version_minor": 0
      },
      "text/plain": [
       "interactive(children=(Dropdown(description='symbol', options=('aapl', 'amzn', 'mrna', 'msft', 'sbux', 'tsla'),…"
      ]
     },
     "metadata": {},
     "output_type": "display_data"
    }
   ],
   "source": [
    "symbol_list=dsymbol\n",
    "\n",
    "@interact(symbol=symbol_list)\n",
    "def plot_chart(symbol):\n",
    "    qf = cf.QuantFig(df[df.Symbol==symbol], title=f'{symbol.upper()}',\n",
    "                    name=symbol, dimensions=(1000, 800))\n",
    "    qf.add_bollinger_bands(periods=20, boll_std=2, colors=[\n",
    "                        'magenta', 'grey'], fill=True)\n",
    "    qf.add_rsi(periods=14, color='purple')\n",
    "    # qf.add_volume()\n",
    "    qf.add_macd()\n",
    "    qf.iplot()"
   ]
  },
  {
   "cell_type": "code",
   "execution_count": null,
   "metadata": {},
   "outputs": [],
   "source": []
  }
 ],
 "metadata": {
  "interpreter": {
   "hash": "b4c3ccfac994cfbb0c569516686a847c6b81ac3d5e88d1841f2604759f69593a"
  },
  "kernelspec": {
   "display_name": "Python 3.8.12 64-bit ('base': conda)",
   "language": "python",
   "name": "python3"
  },
  "language_info": {
   "codemirror_mode": {
    "name": "ipython",
    "version": 3
   },
   "file_extension": ".py",
   "mimetype": "text/x-python",
   "name": "python",
   "nbconvert_exporter": "python",
   "pygments_lexer": "ipython3",
   "version": "3.8.12"
  },
  "orig_nbformat": 4
 },
 "nbformat": 4,
 "nbformat_minor": 2
}
